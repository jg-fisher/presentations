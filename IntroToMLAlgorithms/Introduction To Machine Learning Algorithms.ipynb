{
 "cells": [
  {
   "cell_type": "markdown",
   "metadata": {
    "slideshow": {
     "slide_type": "slide"
    }
   },
   "source": [
    "# Machine Learning Algorithms: Introduction\n",
    "\n",
    "<br>\n",
    "<br>"
   ]
  },
  {
   "cell_type": "markdown",
   "metadata": {
    "slideshow": {
     "slide_type": "slide"
    }
   },
   "source": [
    "## Supervised Learning\n",
    "\n",
    "#### What is it?\n",
    "- Classification\n",
    "- Regression\n",
    "\n",
    "<img src='./compare.png'>\n",
    "\n",
    "#### How can I use it?\n",
    "- Predict Stock Prices\n",
    "- Predict Health Risks\n",
    "- Facial Recognition\n",
    "- Spam Filter\n",
    "- Fraud Detection\n",
    "- Loan Approval\n",
    "- Self Driving Cars\n",
    "\n",
    "\n",
    "#### Which alogrithms?\n",
    "- Linear Regression\n",
    "- Logistic Regression\n",
    "- Neural Networks\n",
    "- Decision Trees\n",
    "- XGBoost\n",
    "- Support Vector Machines\n",
    "- Naive Bayes\n",
    "\n",
    "#### Famous example?\n",
    "- Facebook Facial Recognition\n",
    "\n",
    "<br>"
   ]
  },
  {
   "cell_type": "markdown",
   "metadata": {
    "slideshow": {
     "slide_type": "slide"
    }
   },
   "source": [
    "## Unsupervised Learning\n",
    "\n",
    "#### What is it?\n",
    "- Clustering\n",
    "- Dimensionality Reduction\n",
    "- Association Rules\n",
    "\n",
    "\n",
    "\n",
    "<img src='./spec_cluster.webp'>\n",
    "\n",
    "#### How can I use it?\n",
    "- Optimize Store Layouts\n",
    "- Image generation\n",
    "- Audio synthesis\n",
    "- Text generation\n",
    "- Feature extraction\n",
    "- Exploratory data analysis, new insights or relationships\n",
    "\n",
    "#### Which alogrithms?\n",
    "- k-Means\n",
    "- Generative Adversarial Networks\n",
    "- Autoencoders\n",
    "- Principal Component Analysis\n",
    "\n",
    "#### Famous example?\n",
    "- Celebrity Generating GAN\n",
    "\n",
    "<br>"
   ]
  },
  {
   "cell_type": "markdown",
   "metadata": {
    "slideshow": {
     "slide_type": "slide"
    }
   },
   "source": [
    "## Reinforcement Learning\n",
    "\n",
    "#### What is it?\n",
    "- Training an embodied agent with rewards\n",
    "\n",
    "<img src='./rl.jpg'>\n",
    "\n",
    "#### How can I use it?\n",
    "- Video Game AI\n",
    "- Trading\n",
    "- Robotics\n",
    "- Serving Content\n",
    "\n",
    "#### Which algorithms?\n",
    "- Q-Learning\n",
    "- Model Based Learning\n",
    "\n",
    "#### Famous example?\n",
    "- AlphaGo\n",
    "- Dota 5v5 Bot\n",
    "\n",
    "<br>"
   ]
  }
 ],
 "metadata": {
  "celltoolbar": "Slideshow",
  "kernelspec": {
   "display_name": "Python 3",
   "language": "python",
   "name": "python3"
  },
  "language_info": {
   "codemirror_mode": {
    "name": "ipython",
    "version": 3
   },
   "file_extension": ".py",
   "mimetype": "text/x-python",
   "name": "python",
   "nbconvert_exporter": "python",
   "pygments_lexer": "ipython3",
   "version": "3.6.3"
  }
 },
 "nbformat": 4,
 "nbformat_minor": 2
}
